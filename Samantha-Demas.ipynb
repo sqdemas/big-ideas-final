{
 "cells": [
  {
   "cell_type": "code",
   "execution_count": null,
   "id": "b7a06a80-067e-49e5-b673-ef57c72f8894",
   "metadata": {},
   "outputs": [],
   "source": [
    "import pandas as pd"
   ]
  },
  {
   "cell_type": "code",
   "execution_count": null,
   "id": "33cba779-be63-4727-8a13-a21ac3a65961",
   "metadata": {},
   "outputs": [],
   "source": [
    "# Get data from CSV file\n",
    "centers = pd.read_csv(\"big-ideas-final/Datasets/Daily_Community_Center_Attendence.csv\")\n",
    "\n"
   ]
  }
 ],
 "metadata": {
  "kernelspec": {
   "display_name": "Python 3 (ipykernel)",
   "language": "python",
   "name": "python3"
  },
  "language_info": {
   "codemirror_mode": {
    "name": "ipython",
    "version": 3
   },
   "file_extension": ".py",
   "mimetype": "text/x-python",
   "name": "python",
   "nbconvert_exporter": "python",
   "pygments_lexer": "ipython3",
   "version": "3.11.5"
  }
 },
 "nbformat": 4,
 "nbformat_minor": 5
}
